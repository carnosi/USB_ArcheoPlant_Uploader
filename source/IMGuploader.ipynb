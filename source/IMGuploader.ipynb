{
 "cells": [
  {
   "cell_type": "markdown",
   "id": "05a877ba",
   "metadata": {},
   "source": [
    "<div style=\"width:100%;height:60px\">\n",
    "<div style=\"width:60%;height:50px;float:left;\"><h1> Image uploader to UniCatDB </h1></div>\n",
    "<div style=\"width:40%;height:50px;float:left;\"><img src=\"data:image/png;base64,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\" width=200px align=right/> </div>\n",
    "</div>\n",
    "    \n",
    "This jupyter notebook has been designed to ease the use of our uploader scripts without the need of coding knowledge and the requirement of full GUI development. This uploader is connected to Archeoplan workspace and uploads all data to ArcheoPlant - Seeds (Automatic upload) schema.\n",
    "\n",
    "### Installation of required libraries in new enviroment\n",
    "This jupyter app is equiped with automatic dependency installation. Just run the following cell and everything required will get automatically installed. On next start the app will start right away.\n",
    "\n",
    "To start uploader GUI click on the cell with In[1] and press <b>shift</b> + <b>enter</b> to execute it. You can also click on the cell and press the run button on top of this notebook."
   ]
  },
  {
   "cell_type": "code",
   "execution_count": 1,
   "id": "7ad64ee4",
   "metadata": {
    "scrolled": false
   },
   "outputs": [
    {
     "data": {
      "application/vnd.jupyter.widget-view+json": {
       "model_id": "d72e27220cb744f1826aeadc7d0d9d2e",
       "version_major": 2,
       "version_minor": 0
      },
      "text/plain": [
       "VBox(children=(HTML(value='Welcome to jupyter notebook seed image uploader!'), HBox(children=(Text(value='', d…"
      ]
     },
     "metadata": {},
     "output_type": "display_data"
    },
    {
     "name": "stdout",
     "output_type": "stream",
     "text": [
      "Automatic image feature extraction failed! No data values are provided. Analyze the seed in path: C:\\Users\\anonn\\Downloads\\seeds\\Prunella Vulgaris\\20220623_154232.tif manually!\n",
      "IndexError: list index out of range\n",
      "Automatic image feature extraction failed! No data values are provided. Analyze the seed in path: C:\\Users\\anonn\\Downloads\\seeds\\Prunella Vulgaris\\20220623_160240.tif manually!\n",
      "IndexError: list index out of range\n"
     ]
    }
   ],
   "source": [
    "%run uploadergui"
   ]
  },
  {
   "cell_type": "markdown",
   "id": "2c2913b8",
   "metadata": {},
   "source": [
    "### Operating guidelines and FAQs\n",
    "In case it is your first time running our app, we encourage you to read through following few blocks of text so you can get used to its work flow.\n",
    "#### Specify folder to be uploaded or processed.\n",
    "You can click on ``path`` button to open visual file browser with which you can select folder to be uploaded. You can also copy the path directly in the path text window. If you copy path in text window and click on path, file browser will open in given path.\n",
    "\n",
    "Selected folder should contain only correctly named folders (Names of folders are used for naming species in database! Naming is not case sensitive.) **!!! DO NOT PUT YOUR INTERNAL NUMBER IN FILE NAME !!!** Internal numbers belog to config.py\n",
    "\n",
    "If you notice typo in your folder after the upload, there is not much we can do about it. Entire upload has to be deleted and all process started from the begining.\n",
    "\n",
    "##### Example structure:\n",
    "<pre>\n",
    "./to_be_uploaded\n",
    " |______________ Achillea millefolium\n",
    " |               |_____________________ diaspore\n",
    " |               |                      |______________________ ach mil_1--01d.tif \n",
    " |               |                      |______________________ ach mil_1--01d_meta.xml\n",
    " |               |                      |\n",
    " |               |                      ...\n",
    " |               |\n",
    " |               |____________________ ach mil_1--01_c1.tif              \n",
    " |               |____________________ ach mil_1--01_meta.xml\n",
    " |               |\n",
    " |               ...\n",
    " |\n",
    " |______________ Ajuga reptans\n",
    " |               |____________________ ...\n",
    " |               |\n",
    " |               ...\n",
    " ...\n",
    "</pre>\n",
    "It is important to name the images in a same root name as the meta data. If our program won't detect any metadata, image processing will be skipped and it wont be uploaded. If such event occures, our program writes information about this below the shown GUI.\n",
    "\n",
    "#### Notice - config.py\n",
    "All user upload specific properties are saved in config.py. Before each upload you should make sure, that it contains data which are related to your upload. If you change anything in config.py this app has to be reloaded! \n",
    "* Option A - close browser window and terminal in the background. Open app as you would normally do.\n",
    "* Option B - Press \n",
    "\n",
    "#### Notice - Folders\n",
    "Image folders do not have to follow strict capital / lower letter. Scrip automatically capitalizes First Letter of each word and lowers all others for each folder name. Therefore Achillea millefolium would be written as Achillea Millefolium to database. Folder name should not include any underscore with number behind it (usually internal ID numbers), because those are not excluded automatically.\n",
    "\n",
    "## GUI description\n",
    "- <b>User Name</b> User name of the person performing current upload. Minimal length is set to 3 characters. \n",
    "- <b>Path</b> Target adress to folder with folders or preprocessed json file which contain species to be uploaded or pre processed. Depending on selected mode, user can choose only folder or only file. Path can be entered by visual file walker or by directly copying target path in to the text window.\n",
    "- <b>Microscope</b> Select used microscope for images which shall be uploaded. Different manufacturers use different syntaxe and our parser needs to know which approach should be used. Sofar there are supported only ZEIS and KEYENS microscopes.\n",
    "- <b>Mode</b> Operation mode of our scripts. <b>Pre Loader</b> prepares upload JSON for all images in target folder. Upload can be performed later or on another computer, if relative paths from this uploader location is the same (eg. program with data saved on owncloud) <b>Uploader</b> uploades earlier prepared JSON to database. <b>All-in-One</b> Automatically prepares meta data and then uploads image to database. This mode does not save any preprocessed json and in case of failure process has to start from point 0. <b>IT IS RECOMMENDED TO USE PRE LOADER AND AFTER THAT UPLOADER. If there is large amount of files.</b>\n",
    "- <b>Button</b> Starts or stops processing tasks. Script can be stopped at any time interrupting entire batch job. Already processed data or uploads will be finished.\n",
    "- <b>Progress bars</b> Progress visualization on totall processing and current upload. Upon start, wait atleast 5 seconds until some bar will move.\n",
    "- <b>Misc. footer</b> Contains report of current processing or finished / failed task. Shows versions of all used modules."
   ]
  },
  {
   "cell_type": "code",
   "execution_count": null,
   "id": "efbe01b8",
   "metadata": {},
   "outputs": [],
   "source": []
  }
 ],
 "metadata": {
  "kernelspec": {
   "display_name": "Python 3 (ipykernel)",
   "language": "python",
   "name": "python3"
  },
  "language_info": {
   "codemirror_mode": {
    "name": "ipython",
    "version": 3
   },
   "file_extension": ".py",
   "mimetype": "text/x-python",
   "name": "python",
   "nbconvert_exporter": "python",
   "pygments_lexer": "ipython3",
   "version": "3.9.7"
  }
 },
 "nbformat": 4,
 "nbformat_minor": 5
}
