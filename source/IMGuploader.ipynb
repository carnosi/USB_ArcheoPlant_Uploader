{
 "cells": [
  {
   "cell_type": "markdown",
   "id": "05a877ba",
   "metadata": {},
   "source": [
    "<div style=\"width:100%;height:60px\">\n",
    "<div style=\"width:60%;height:50px;float:left;\"><h1> Image uploader to UniCatDB </h1></div>\n",
    "<div style=\"width:40%;height:50px;float:left;\"><img src=\"https://jucb-my.sharepoint.com/personal/obudik_jcu_cz/Documents/IMGs%20in%20my%20Jupyter%20notes/logo%20katedra%20informatiky%20CZ.png\" width=200px align=right/> </div>\n",
    "</div>\n",
    "    \n",
    "This jupyter notebook has been designed to ease the use of our uploader scripts without the need of coding knowledge and the requirement of full GUI development. This uploader is connected to Archeoplan workspace and uploads all data to ArcheoPlant - Seeds (Automatic upload) schema.\n",
    "\n",
    "### Installation of required libraries in new enviroment\n",
    "This jupyter app is equiped with automatic dependency installation. Just run the following cell and everything required will get automatically installed. On next start the app will start right away.\n",
    "\n",
    "To start uploader GUI click on the cell with In[1] and press <b>shift</b> + <b>enter</b> to execute it. You can also click on the cell and press the run button on top of this notebook."
   ]
  },
  {
   "cell_type": "code",
   "execution_count": 1,
   "id": "7ad64ee4",
   "metadata": {
    "scrolled": false
   },
   "outputs": [
    {
     "data": {
      "application/vnd.jupyter.widget-view+json": {
       "model_id": "9bb1ac711fca4e46b4001e9d7041ea5f",
       "version_major": 2,
       "version_minor": 0
      },
      "text/plain": [
       "VBox(children=(HTML(value='Welcome to jupyter notebook seed image uploader!'), HBox(children=(Text(value='', d…"
      ]
     },
     "metadata": {},
     "output_type": "display_data"
    },
    {
     "data": {
      "application/vnd.jupyter.widget-view+json": {
       "model_id": "c39ec305c65044f0bc4a954579a7ab8d",
       "version_major": 2,
       "version_minor": 0
      },
      "text/plain": [
       "FileChooser(path='C:\\GitRepos\\JCU_ArcheoPlant_Uploader', filename='', title='<b>Select folder with images</b>'…"
      ]
     },
     "metadata": {},
     "output_type": "display_data"
    }
   ],
   "source": [
    "%run uploadergui"
   ]
  },
  {
   "cell_type": "markdown",
   "id": "2c2913b8",
   "metadata": {},
   "source": [
    "### Operating guidelines and FAQs\n",
    "In case it is your first time running our app, we encourage you to read through following few block of text so you can get used to its work flow.\n",
    "#### Specify folder to be uploaded or processed.\n",
    "You can click on ``path`` button to open visual file browser with which you can select folder to be uploade. You can also copy the path directly in the path text window.\n",
    "\n",
    "Selected folder should contain only correctly named folders (Names of folders are used for naming species in database! Naming is not case sensitive.) \n",
    "\n",
    "If you notice typo in your folder after the upload, there is not much we can do about it. Entire upload has to be deleted and all process started from the begining.\n",
    "\n",
    "##### Example structure:\n",
    "<pre>\n",
    "./to_be_uploaded\n",
    " |______________ Achillea millefolium\n",
    " |               |_____________________ diaspore\n",
    " |               |                      |______________________ ach mil_1--01d.tif \n",
    " |               |                      |______________________ ach mil_1--01d_meta.xml\n",
    " |               |\n",
    " |               |____________________ ach mil_1--01_c1.tif              \n",
    " |               |____________________ ach mil_1--01_meta.xml\n",
    " |\n",
    " |______________ Ajuga reptans\n",
    " |               |____________________ ...\n",
    " ...\n",
    "</pre>\n",
    "It is important to name the images in a same root name as the meta data. If our program won't detect any metadata, image processing will be skipped and it wont be uploaded. If such event occures, our program writes information about this below the shown GUI.\n",
    "\n",
    "#### Notice\n",
    "Image folders do not have to follow strict capital / lower letter. Scrip automatically capitalizes First Letter of each word and lowers all others for each folder name. Therefore Achillea millefolium would be written as Achillea Millefolium to database. Folder name should not include any underscore with number behind it (usually internal ID numbers), because those are not excluded automatically.\n",
    "\n",
    "## GUI description\n",
    "- <b>User Name</b> User name of the person performing current upload. Minimal length is set to 3 characters. \n",
    "- <b>Path</b> Target adress to folder with folders or preprocessed json file which contain species to be uploaded or pre processed. Depending on selected mode, user can choose only folder or only file. Path can be entered by visual file walker or by directly copying target path in to the text window.\n",
    "- <b>Microscope</b> Select used microscope for images which shall be uploaded. Different manufacturers use different syntaxe and our parser needs to know which approach should be used. Sofar there are supported only ZEIS and KEYENS microscopes.\n",
    "- <b>Mode</b> Operation mode of our scripts. <b>Pre Loader</b> prepares upload JSON for all images in target folder. Upload can be performed later or on another computer, if relative paths from this uploader location is the same (eg. program with data saved on owncloud) <b>Uploader</b> uploades earlier prepared JSON to database. <b>All-in-One</b> Automatically prepares meta data and then uploads image to database. This mode does not save any preprocessed json and in case of failure process has to start from point 0. <b>IT IS RECOMMENDED TO USE PRE LOADER AND AFTER THAT UPLOADER. If there is large amount of files.</b>\n",
    "- <b>Button</b> Starts or stops processing tasks. Script can be stopped at any time interrupting entire batch job. Already processed data or uploads will be finished.\n",
    "- <b>Progress bars</b> Progress visualization on totall processing and current upload. Upon start, wait atleast 5 seconds until some bar will move.\n",
    "- <b>Misc. footer</b> Contains report of current processing or finished / failed task. Shows versions of all used modules."
   ]
  },
  {
   "cell_type": "code",
   "execution_count": null,
   "id": "efbe01b8",
   "metadata": {},
   "outputs": [],
   "source": []
  }
 ],
 "metadata": {
  "kernelspec": {
   "display_name": "Python 3 (ipykernel)",
   "language": "python",
   "name": "python3"
  },
  "language_info": {
   "codemirror_mode": {
    "name": "ipython",
    "version": 3
   },
   "file_extension": ".py",
   "mimetype": "text/x-python",
   "name": "python",
   "nbconvert_exporter": "python",
   "pygments_lexer": "ipython3",
   "version": "3.9.7"
  }
 },
 "nbformat": 4,
 "nbformat_minor": 5
}
