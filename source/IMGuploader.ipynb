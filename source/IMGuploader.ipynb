{
 "cells": [
  {
   "cell_type": "markdown",
   "id": "05a877ba",
   "metadata": {},
   "source": [
    "# Image uploader to UniCatDB\n",
    "This jupyter notebook has been designed to ease the use of our uploader scripts without the need of coding knowledge and the requirement of full GUI development.\n",
    "\n",
    "### Installation of required libraries in new enviroment\n",
    "If it's the first time that you run this notebook, run it in administrator mode to be sure, that script can install dependencies.\n",
    "\n",
    "To start uploader GUI click on the cell with In[1] and press <b>shift</b> + <b>enter</b>"
   ]
  },
  {
   "cell_type": "code",
   "execution_count": 1,
   "id": "7ad64ee4",
   "metadata": {
    "scrolled": false
   },
   "outputs": [
    {
     "data": {
      "application/vnd.jupyter.widget-view+json": {
       "model_id": "76010985bfb74b31a797a16d72f1abf7",
       "version_major": 2,
       "version_minor": 0
      },
      "text/plain": [
       "VBox(children=(HTML(value='Welcome to jupyter notebook seed image uploader!'), HBox(children=(Text(value='', d…"
      ]
     },
     "metadata": {},
     "output_type": "display_data"
    }
   ],
   "source": [
    "%run uploadergui"
   ]
  },
  {
   "cell_type": "markdown",
   "id": "2c2913b8",
   "metadata": {},
   "source": [
    "#### Specify folder to be uploaded.\n",
    "Folder should contain only correctly named folders (Names of folders are used for naming species in database! Naming is not case sensitive.) \n",
    "\n",
    "If you notice typo in your folder after the upload, there is not much we can do about it. Entire upload has to be deleted and all process started from the begining.\n",
    "\n",
    "Within each folder it is expected to have similarly named images and attached meta data.\n",
    "##### Example structure:\n",
    "<pre>\n",
    "./to_be_uploaded\n",
    " |______________ Achillea millefolium\n",
    " |               |_____________________ diaspore\n",
    " |               |                      |______________________ ach mil_1--01d.tif \n",
    " |               |                      |______________________ ach mil_1--01d_meta.xml\n",
    " |               |\n",
    " |               |____________________ ach mil_1--01_c1.tif              \n",
    " |               |____________________ ach mil_1--01_meta.xml\n",
    " |\n",
    " |______________ Ajuga reptans\n",
    " |               |____________________ ...\n",
    " ...\n",
    "</pre>\n",
    "#### Notice\n",
    "Image folders do not have to follow strict capital / lower letter. Scrip automatically capitalizes First Letter of each word and lowers all others for each folder name. Therefore Achillea millefolium would be written as Achillea Millefolium to database.\n",
    "\n",
    "## GUI description\n",
    "- <b>Path</b> Target adress to folder with folders which contain species to be uploade or pre processed.\n",
    "- <b>Microscope</b> Select used microscope for images which shall be uploaded. Different manufacturers use different syntaxe and our parsed needs to know which approach should be used. Sofar are supported only ZEIS and KEYENS\n",
    "- <b>Mode</b> Operation mode of our scripts. <b>Pre Loader</b> prepares upload JSON for all images in target folder. Upload can be performed later or on another computer (if folder of this script is shared or uses exactly same paths for target images) <b>Uploader</b> uploades earlier prepared JSON to database. <b>All-in-One</b> Automatically prepares meta data and then uploads image to database. <b>IT IS RECOMMENDED TO USE PRE LOADER AND AFTER THAT UPLOADER.</b> If some upload fails, it is not possible to restart it and progress has to be started from point 0.\n",
    "- <b>Button</b> Starts or stops processing tasks. Script can be stopped at any time, however all progress will be lost.\n",
    "- <b>Progress</b> Estimated task progress. May not be super accurate."
   ]
  },
  {
   "cell_type": "code",
   "execution_count": null,
   "id": "efbe01b8",
   "metadata": {},
   "outputs": [],
   "source": []
  }
 ],
 "metadata": {
  "kernelspec": {
   "display_name": "Python 3 (ipykernel)",
   "language": "python",
   "name": "python3"
  },
  "language_info": {
   "codemirror_mode": {
    "name": "ipython",
    "version": 3
   },
   "file_extension": ".py",
   "mimetype": "text/x-python",
   "name": "python",
   "nbconvert_exporter": "python",
   "pygments_lexer": "ipython3",
   "version": "3.9.7"
  }
 },
 "nbformat": 4,
 "nbformat_minor": 5
}
